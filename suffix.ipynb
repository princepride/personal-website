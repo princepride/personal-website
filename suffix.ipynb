{
 "cells": [
  {
   "cell_type": "code",
   "execution_count": 4,
   "metadata": {},
   "outputs": [],
   "source": [
    "import os\n",
    "\n",
    "# 遍历文件夹\n",
    "for root, dirs, files in os.walk(r'C:\\Users\\wangz\\Downloads\\noname\\resources\\app\\extension\\千幻聆音\\sanguoskin'):\n",
    "    for file in files:\n",
    "        # 分离文件名和后缀\n",
    "        file_name, file_ext = os.path.splitext(file)\n",
    "        if file_name[-2:] in ['动态', '全动']:\n",
    "            # 修改文件名\n",
    "            os.rename(os.path.join(root, file), os.path.join(root, file_name + '.gif'))"
   ]
  },
  {
   "cell_type": "code",
   "execution_count": 3,
   "metadata": {},
   "outputs": [
    {
     "data": {
      "text/plain": [
       "'78'"
      ]
     },
     "execution_count": 3,
     "metadata": {},
     "output_type": "execute_result"
    }
   ],
   "source": [
    "a = '12345678'\n",
    "a[-2:]"
   ]
  }
 ],
 "metadata": {
  "kernelspec": {
   "display_name": "base",
   "language": "python",
   "name": "python3"
  },
  "language_info": {
   "codemirror_mode": {
    "name": "ipython",
    "version": 3
   },
   "file_extension": ".py",
   "mimetype": "text/x-python",
   "name": "python",
   "nbconvert_exporter": "python",
   "pygments_lexer": "ipython3",
   "version": "3.9.13 (main, Aug 25 2022, 23:51:50) [MSC v.1916 64 bit (AMD64)]"
  },
  "orig_nbformat": 4,
  "vscode": {
   "interpreter": {
    "hash": "6d1820d8265b6d35a67df518827cee7761a842f6395c0de601fdb9a617dd62ff"
   }
  }
 },
 "nbformat": 4,
 "nbformat_minor": 2
}
